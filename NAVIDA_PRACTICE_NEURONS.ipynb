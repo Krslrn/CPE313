{
  "nbformat": 4,
  "nbformat_minor": 0,
  "metadata": {
    "colab": {
      "provenance": []
    },
    "kernelspec": {
      "name": "python3",
      "display_name": "Python 3"
    },
    "language_info": {
      "name": "python"
    }
  },
  "cells": [
    {
      "cell_type": "code",
      "execution_count": 58,
      "metadata": {
        "id": "Y9karjc1IhgV"
      },
      "outputs": [],
      "source": [
        "import numpy as np\n",
        "\n",
        "class Neuron:\n",
        "  def __init__(self, w1, w2):\n",
        "    self.w1 = w1\n",
        "    self.w2 = w2\n",
        "\n",
        "  def linear_combiner(self):\n",
        "    x = self.w1 + self.w2\n",
        "    print(x)\n",
        "\n",
        "  def activation_sigmoid(self, x):\n",
        "    return 1.0 / (1.0 + np.exp(x))\n",
        "\n",
        "  def activation_relu(self, x):\n",
        "    if x >= 0:\n",
        "      return x\n",
        "\n",
        "    else:\n",
        "      return 0"
      ]
    },
    {
      "cell_type": "code",
      "source": [
        "p1 = Neuron(4, 3)\n",
        "p2 = Neuron(3, 2)"
      ],
      "metadata": {
        "id": "ZJM9tQwUUZN_"
      },
      "execution_count": 59,
      "outputs": []
    },
    {
      "cell_type": "code",
      "source": [
        "p1.linear_combiner()"
      ],
      "metadata": {
        "colab": {
          "base_uri": "https://localhost:8080/",
          "height": 0
        },
        "id": "ZqRLdGtlN3j1",
        "outputId": "9242a203-4b55-4469-ca34-15627e5489f1"
      },
      "execution_count": 60,
      "outputs": [
        {
          "output_type": "stream",
          "name": "stdout",
          "text": [
            "7\n"
          ]
        }
      ]
    },
    {
      "cell_type": "code",
      "source": [
        "p1.activation_sigmoid(7)"
      ],
      "metadata": {
        "colab": {
          "base_uri": "https://localhost:8080/",
          "height": 0
        },
        "id": "QOSsgKVnUHxm",
        "outputId": "d3810f03-cec1-4360-bea0-19c3311b39a0"
      },
      "execution_count": 61,
      "outputs": [
        {
          "output_type": "execute_result",
          "data": {
            "text/plain": [
              "0.0009110511944006454"
            ]
          },
          "metadata": {},
          "execution_count": 61
        }
      ]
    },
    {
      "cell_type": "code",
      "source": [
        "p1.activation_relu(-0.6)"
      ],
      "metadata": {
        "colab": {
          "base_uri": "https://localhost:8080/",
          "height": 0
        },
        "id": "lSTw6FPLUPrm",
        "outputId": "c34dc6b6-5e24-4be9-a5ff-7b24cb7ef685"
      },
      "execution_count": 66,
      "outputs": [
        {
          "output_type": "execute_result",
          "data": {
            "text/plain": [
              "0"
            ]
          },
          "metadata": {},
          "execution_count": 66
        }
      ]
    }
  ]
}