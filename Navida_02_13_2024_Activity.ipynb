{
  "nbformat": 4,
  "nbformat_minor": 0,
  "metadata": {
    "colab": {
      "provenance": []
    },
    "kernelspec": {
      "name": "python3",
      "display_name": "Python 3"
    },
    "language_info": {
      "name": "python"
    }
  },
  "cells": [
    {
      "cell_type": "code",
      "execution_count": 39,
      "metadata": {
        "id": "R8zNAgibH3vM"
      },
      "outputs": [],
      "source": [
        "#importing the numpy as a library\n",
        "import numpy as np"
      ]
    },
    {
      "cell_type": "code",
      "source": [
        "#creating class for this activity\n",
        "class neuron:\n",
        "  #creating a function for input and weight\n",
        "  def __init__(self, i, w):\n",
        "    self.i = i\n",
        "    self.w = w\n",
        "\n",
        "  #creating a summation function for i and w\n",
        "  def summation(self):\n",
        "    s = np.dot(self.i, self.w)\n",
        "    print(s)\n",
        "\n",
        "  #creating the activation function using ReLU\n",
        "  def activation(self, t):\n",
        "    return (t > 0) * t"
      ],
      "metadata": {
        "id": "3b0PaYS2KqfQ"
      },
      "execution_count": 40,
      "outputs": []
    },
    {
      "cell_type": "code",
      "source": [
        "#listing in an array the weights and inputs\n",
        "w1 = 1,3,5,7,9\n",
        "w2 = 0.8,0.9,0.5,0.3,0.1\n",
        "i1 = 5,6,7,8,9\n",
        "\n",
        "#taking the values of the input and weight1\n",
        "u1 = neuron(i1, w1)\n",
        "u2 = neuron(i1, w1)\n",
        "u3 = neuron(i1, w1)\n",
        "u4 = neuron(i1, w1)\n",
        "u5 = neuron(i1, w1)"
      ],
      "metadata": {
        "id": "fffFmr2xR_dA"
      },
      "execution_count": 41,
      "outputs": []
    },
    {
      "cell_type": "code",
      "source": [
        "#summing the values of input and weight1\n",
        "u1.summation()\n",
        "u2.summation()\n",
        "u3.summation()\n",
        "u4.summation()\n",
        "u5.summation()"
      ],
      "metadata": {
        "colab": {
          "base_uri": "https://localhost:8080/"
        },
        "id": "x64Ube8HYaU_",
        "outputId": "36a41234-5a0d-40eb-deb1-cd9d2b900d6b"
      },
      "execution_count": 42,
      "outputs": [
        {
          "output_type": "stream",
          "name": "stdout",
          "text": [
            "195\n",
            "195\n",
            "195\n",
            "195\n",
            "195\n"
          ]
        }
      ]
    },
    {
      "cell_type": "code",
      "source": [
        "#getting the values using activation function which is ReLU\n",
        "o1 = u1.activation(195), u2.activation(195), u3.activation(195), u4.activation(195), u5.activation(195)\n",
        "o1"
      ],
      "metadata": {
        "colab": {
          "base_uri": "https://localhost:8080/"
        },
        "id": "75qXqjKFYw0h",
        "outputId": "17a74767-b838-47e4-b329-a0ddec60d59e"
      },
      "execution_count": 43,
      "outputs": [
        {
          "output_type": "execute_result",
          "data": {
            "text/plain": [
              "(195, 195, 195, 195, 195)"
            ]
          },
          "metadata": {},
          "execution_count": 43
        }
      ]
    },
    {
      "cell_type": "code",
      "source": [
        "#checking if the activation works\n",
        "x1 = neuron(o1, w2)"
      ],
      "metadata": {
        "id": "Is-LnFdDZHkB"
      },
      "execution_count": 44,
      "outputs": []
    },
    {
      "cell_type": "code",
      "source": [
        "#summing to get the output\n",
        "x1.summation()"
      ],
      "metadata": {
        "colab": {
          "base_uri": "https://localhost:8080/"
        },
        "id": "GmOlCAKXZg4e",
        "outputId": "535e893d-4c74-4652-9334-d72efdcf1571"
      },
      "execution_count": 45,
      "outputs": [
        {
          "output_type": "stream",
          "name": "stdout",
          "text": [
            "507.0\n"
          ]
        }
      ]
    }
  ]
}